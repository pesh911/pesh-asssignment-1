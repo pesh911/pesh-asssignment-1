{
  "nbformat": 4,
  "nbformat_minor": 0,
  "metadata": {
    "colab": {
      "provenance": [],
      "authorship_tag": "ABX9TyMxVcEgifMc7Qu32gqouEQl",
      "include_colab_link": true
    },
    "kernelspec": {
      "name": "python3",
      "display_name": "Python 3"
    },
    "language_info": {
      "name": "python"
    }
  },
  "cells": [
    {
      "cell_type": "markdown",
      "metadata": {
        "id": "view-in-github",
        "colab_type": "text"
      },
      "source": [
        "<a href=\"https://colab.research.google.com/github/pesh911/pesh-asssignment-1/blob/main/Untitled6.ipynb\" target=\"_parent\"><img src=\"https://colab.research.google.com/assets/colab-badge.svg\" alt=\"Open In Colab\"/></a>"
      ]
    },
    {
      "cell_type": "code",
      "source": [
        "def get_expected_cost(beds, baths):\n",
        "    \"\"\"\n",
        "    Calculates the expected cost of a house based on the number of bedrooms and bathrooms.\n",
        "\n",
        "    Args:\n",
        "        beds: The number of bedrooms.\n",
        "        baths: The number of bathrooms.\n",
        "\n",
        "    Returns:\n",
        "        The expected cost of the house.\n",
        "    \"\"\"\n",
        "    base_cost = 80000\n",
        "    bedroom_cost = 30000 * beds\n",
        "    bathroom_cost = 10000 * baths\n",
        "    expected_cost = base_cost + bedroom_cost + bathroom_cost\n",
        "    return expected_cost\n",
        "\n",
        "# Example usage:\n",
        "cost1 = get_expected_cost(1, 1)\n",
        "print(f\"Cost of a house with 1 bedroom and 1 bathroom: {cost1}\")  # Output: 120000\n",
        "\n",
        "cost2 = get_expected_cost(2, 1)\n",
        "print(f\"Cost of a house with 2 bedrooms and 1 bathroom: {cost2}\")  # Output: 150000\n",
        "\n",
        "cost3 = get_expected_cost(0, 0)\n",
        "print(f\"Cost of a house with 0 bedroom and 0 bathroom: {cost3}\")  # Output: 80000\n",
        "\n",
        "cost4 = get_expected_cost(3, 2)\n",
        "print(f\"Cost of a house with 3 bedroom and 2 bathroom: {cost4}\") # Output: 170000"
      ],
      "metadata": {
        "colab": {
          "base_uri": "https://localhost:8080/"
        },
        "id": "faWfYCOBxpu1",
        "outputId": "1841254e-a336-443f-d4e0-4857c43648e0"
      },
      "execution_count": 6,
      "outputs": [
        {
          "output_type": "stream",
          "name": "stdout",
          "text": [
            "Cost of a house with 1 bedroom and 1 bathroom: 120000\n",
            "Cost of a house with 2 bedrooms and 1 bathroom: 150000\n",
            "Cost of a house with 0 bedroom and 0 bathroom: 80000\n",
            "Cost of a house with 3 bedroom and 2 bathroom: 190000\n"
          ]
        }
      ]
    },
    {
      "cell_type": "code",
      "source": [
        "def get_expected_cost(beds, baths):\n",
        "    \"\"\"\n",
        "    Calculates the expected cost of a house based on the number of bedrooms and bathrooms.\n",
        "\n",
        "    Args:\n",
        "        beds: The number of bedrooms.\n",
        "        baths: The number of bathrooms.\n",
        "\n",
        "    Returns:\n",
        "        The expected cost of the house.\n",
        "    \"\"\"\n",
        "    base_cost = 80000\n",
        "    bedroom_cost = 30000 * beds\n",
        "    bathroom_cost = 10000 * baths\n",
        "    expected_cost = base_cost + bedroom_cost + bathroom_cost\n",
        "    return expected_cost\n",
        "\n",
        "# Calculate the expected cost for each option\n",
        "option_1 = get_expected_cost(2, 3)\n",
        "option_2 = get_expected_cost(3, 2)\n",
        "option_3 = get_expected_cost(3, 3)\n",
        "option_4 = get_expected_cost(3, 4)\n",
        "\n",
        "# Print the costs (optional, but helpful to see the results)\n",
        "print(f\"Option 1: {option_1}\")\n",
        "print(f\"Option 2: {option_2}\")\n",
        "print(f\"Option 3: {option_3}\")\n",
        "print(f\"Option 4: {option_4}\")\n",
        "\n",
        "# Now you have the cost of each option stored in the variables option_1, option_2, option_3, and option_4.\n",
        "# You can use these variables for further analysis or decision-making."
      ],
      "metadata": {
        "colab": {
          "base_uri": "https://localhost:8080/"
        },
        "id": "C97GLByzywbH",
        "outputId": "8bcd6676-050b-490a-b01a-933378295490"
      },
      "execution_count": 7,
      "outputs": [
        {
          "output_type": "stream",
          "name": "stdout",
          "text": [
            "Option 1: 170000\n",
            "Option 2: 190000\n",
            "Option 3: 200000\n",
            "Option 4: 210000\n"
          ]
        }
      ]
    },
    {
      "cell_type": "code",
      "source": [
        "def get_cost(sqft_walls, sqft_ceiling, sqft_per_gallon, cost_per_gallon):\n",
        "    \"\"\"\n",
        "    Calculates the cost of painting a room (walls and ceiling) with one coat of paint.\n",
        "\n",
        "    Args:\n",
        "        sqft_walls: Total square feet of walls.\n",
        "        sqft_ceiling: Square feet of ceiling.\n",
        "        sqft_per_gallon: Square feet covered by one gallon of paint.\n",
        "        cost_per_gallon: Cost of one gallon of paint.\n",
        "\n",
        "    Returns:\n",
        "        The total cost of painting the room.\n",
        "    \"\"\"\n",
        "\n",
        "    total_sqft = sqft_walls + sqft_ceiling  # Calculate the total area to be painted\n",
        "    gallons_needed = total_sqft / sqft_per_gallon  # Calculate the number of gallons required\n",
        "    total_cost = gallons_needed * cost_per_gallon  # Calculate the total cost\n",
        "    return total_cost\n",
        "\n",
        "# Example usage:\n",
        "walls = 400\n",
        "ceiling = 150\n",
        "coverage = 200  # sqft per gallon\n",
        "gallon_cost = 25  # dollars per gallon\n",
        "\n",
        "cost = get_cost(walls, ceiling, coverage, gallon_cost)\n",
        "print(f\"The total cost of painting is: ${cost}\")  # Output: The total cost of painting is: $68.75"
      ],
      "metadata": {
        "colab": {
          "base_uri": "https://localhost:8080/"
        },
        "id": "N7MUzGaOzKPH",
        "outputId": "9a5a9d8d-95d7-4f6b-e29d-99cce9fc10de"
      },
      "execution_count": 8,
      "outputs": [
        {
          "output_type": "stream",
          "name": "stdout",
          "text": [
            "The total cost of painting is: $68.75\n"
          ]
        }
      ]
    },
    {
      "cell_type": "code",
      "source": [
        "def get_cost(sqft_walls, sqft_ceiling, sqft_per_gallon, cost_per_gallon):\n",
        "    \"\"\"\n",
        "    Calculates the cost of painting a room (walls and ceiling) with one coat of paint.\n",
        "\n",
        "    Args:\n",
        "        sqft_walls: Total square feet of walls.\n",
        "        sqft_ceiling: Square feet of ceiling.\n",
        "        sqft_per_gallon: Square feet covered by one gallon of paint.\n",
        "        cost_per_gallon: Cost of one gallon of paint.\n",
        "\n",
        "    Returns:\n",
        "        The total cost of painting the room.\n",
        "    \"\"\"\n",
        "\n",
        "    total_sqft = sqft_walls + sqft_ceiling\n",
        "    gallons_needed = total_sqft / sqft_per_gallon\n",
        "    total_cost = gallons_needed * cost_per_gallon\n",
        "    return total_cost\n",
        "\n",
        "\n",
        "# Room dimensions and paint details\n",
        "walls = 432\n",
        "ceiling = 144\n",
        "coverage = 400  # sqft per gallon\n",
        "gallon_cost = 15  # dollars per gallon\n",
        "\n",
        "# Calculate the cost\n",
        "cost = get_cost(walls, ceiling, coverage, gallon_cost)\n",
        "\n",
        "# Print the result\n",
        "print(f\"The total cost of painting is: ${cost}\") # Output: The total cost of painting is: $21.6"
      ],
      "metadata": {
        "colab": {
          "base_uri": "https://localhost:8080/"
        },
        "id": "8i8mXaCJzp7U",
        "outputId": "36a854c4-7429-490a-f37c-252bf1117dfd"
      },
      "execution_count": 9,
      "outputs": [
        {
          "output_type": "stream",
          "name": "stdout",
          "text": [
            "The total cost of painting is: $21.599999999999998\n"
          ]
        }
      ]
    },
    {
      "cell_type": "code",
      "source": [
        "import math\n",
        "\n",
        "def get_actual_cost(sqft_walls, sqft_ceiling, sqft_per_gallon, cost_per_gallon):\n",
        "    \"\"\"\n",
        "    Calculates the actual cost of painting a room, considering that only whole gallons\n",
        "    of paint can be purchased.\n",
        "\n",
        "    Args:\n",
        "        sqft_walls: Total square feet of walls.\n",
        "        sqft_ceiling: Square feet of ceiling.\n",
        "        sqft_per_gallon: Square feet covered by one gallon of paint.\n",
        "        cost_per_gallon: Cost of one gallon of paint.\n",
        "\n",
        "    Returns:\n",
        "        The total actual cost of painting the room.\n",
        "    \"\"\"\n",
        "\n",
        "    total_sqft = sqft_walls + sqft_ceiling\n",
        "    gallons_needed = total_sqft / sqft_per_gallon\n",
        "    gallons_to_buy = math.ceil(gallons_needed)  # Round up to the nearest whole gallon\n",
        "    total_cost = gallons_to_buy * cost_per_gallon\n",
        "    return total_cost\n",
        "\n",
        "# Example Usage (using the same values from Question 4):\n",
        "walls = 432\n",
        "ceiling = 144\n",
        "coverage = 400\n",
        "gallon_cost = 15\n",
        "\n",
        "actual_cost = get_actual_cost(walls, ceiling, coverage, gallon_cost)\n",
        "print(f\"The actual cost of painting (whole gallons) is: ${actual_cost}\")  # Output: $30\n",
        "\n",
        "#Another Example\n",
        "walls = 800\n",
        "ceiling = 200\n",
        "coverage = 300\n",
        "gallon_cost = 20\n",
        "\n",
        "actual_cost = get_actual_cost(walls, ceiling, coverage, gallon_cost)\n",
        "print(f\"The actual cost of painting (whole gallons) is: ${actual_cost}\") #Output: $80"
      ],
      "metadata": {
        "colab": {
          "base_uri": "https://localhost:8080/"
        },
        "id": "T8Rw9FErz2Po",
        "outputId": "e91933b4-94bf-4779-e585-e500af0f2d0d"
      },
      "execution_count": 10,
      "outputs": [
        {
          "output_type": "stream",
          "name": "stdout",
          "text": [
            "The actual cost of painting (whole gallons) is: $30\n",
            "The actual cost of painting (whole gallons) is: $80\n"
          ]
        }
      ]
    },
    {
      "cell_type": "code",
      "source": [
        "import math\n",
        "\n",
        "def get_actual_cost(sqft_walls, sqft_ceiling, sqft_per_gallon, cost_per_gallon):\n",
        "    \"\"\"\n",
        "    Calculates the actual cost of painting a room, considering that only whole gallons\n",
        "    of paint can be purchased.\n",
        "\n",
        "    Args:\n",
        "        sqft_walls: Total square feet of walls.\n",
        "        sqft_ceiling: Square feet of ceiling.\n",
        "        sqft_per_gallon: Square feet covered by one gallon of paint.\n",
        "        cost_per_gallon: Cost of one gallon of paint.\n",
        "\n",
        "    Returns:\n",
        "        The total actual cost of painting the room.\n",
        "    \"\"\"\n",
        "\n",
        "    total_sqft = sqft_walls + sqft_ceiling\n",
        "    gallons_needed = total_sqft / sqft_per_gallon\n",
        "    gallons_to_buy = math.ceil(gallons_needed)  # Round up to the nearest whole gallon\n",
        "    total_cost = gallons_to_buy * cost_per_gallon\n",
        "    return total_cost\n",
        "\n",
        "# Example Usage (using the same values from Question 4):\n",
        "walls = 432\n",
        "ceiling = 144\n",
        "coverage = 400\n",
        "gallon_cost = 15\n",
        "\n",
        "actual_cost = get_actual_cost(walls, ceiling, coverage, gallon_cost)\n",
        "print(f\"The actual cost of painting (whole gallons) is: ${actual_cost}\")  # Output: $30\n",
        "\n",
        "#Another Example\n",
        "walls = 800\n",
        "ceiling = 200\n",
        "coverage = 300\n",
        "gallon_cost = 20\n",
        "\n",
        "actual_cost = get_actual_cost(walls, ceiling, coverage, gallon_cost)\n",
        "print(f\"The actual cost of painting (whole gallons) is: ${actual_cost}\") #Output: $80"
      ],
      "metadata": {
        "colab": {
          "base_uri": "https://localhost:8080/"
        },
        "id": "TI_x0zki0Dz3",
        "outputId": "81f253ed-a5f2-4be8-ad55-b54c927dbdc4"
      },
      "execution_count": 11,
      "outputs": [
        {
          "output_type": "stream",
          "name": "stdout",
          "text": [
            "The actual cost of painting (whole gallons) is: $30\n",
            "The actual cost of painting (whole gallons) is: $80\n"
          ]
        }
      ]
    },
    {
      "cell_type": "code",
      "source": [
        "def sign(x):\n",
        "    \"\"\"\n",
        "    Returns the sign of a number.\n",
        "\n",
        "    Args:\n",
        "        x: A numerical value.\n",
        "\n",
        "    Returns:\n",
        "        -1 if x is negative, 1 if x is positive, and 0 if x is 0.\n",
        "    \"\"\"\n",
        "    if x < 0:\n",
        "        return -1\n",
        "    elif x > 0:\n",
        "        return 1\n",
        "    else:\n",
        "        return 0\n",
        "\n",
        "# Example usage (for testing):\n",
        "print(sign(-5))    # Output: -1\n",
        "print(sign(10))    # Output: 1\n",
        "print(sign(0))     # Output: 0\n",
        "print(sign(-0.001)) # Output: -1\n",
        "print(sign(3.14))  # Output: 1\n",
        "\n",
        "\n",
        "# If you have a check() function provided by the environment (like in a coding exercise platform),\n",
        "# you would call it here.  Since I don't have access to that environment, I can't run check().\n",
        "# But, assuming check() exists, the correct way to use it would be something like this:\n",
        "\n",
        "# check()  # Call the check() function to test the sign() function.  This line would be part of the exercise, not part of the function definition."
      ],
      "metadata": {
        "colab": {
          "base_uri": "https://localhost:8080/"
        },
        "id": "aA5Ke6sn05SY",
        "outputId": "d699a40e-9dcc-4138-eb2a-cae5b7d817c8"
      },
      "execution_count": 12,
      "outputs": [
        {
          "output_type": "stream",
          "name": "stdout",
          "text": [
            "-1\n",
            "1\n",
            "0\n",
            "-1\n",
            "1\n"
          ]
        }
      ]
    },
    {
      "cell_type": "code",
      "source": [
        "def to_smash(total_candies):\n",
        "    \"\"\"Return the number of leftover candies that must be smashed after distributing\n",
        "    the given number of candies evenly between 3 friends.\n",
        "\n",
        "    >>> to_smash(91)\n",
        "    1\n",
        "    \"\"\"\n",
        "    print(\"Splitting\", total_candies, \"candies\")\n",
        "    return total_candies % 3\n",
        "\n",
        "to_smash(91)"
      ],
      "metadata": {
        "colab": {
          "base_uri": "https://localhost:8080/"
        },
        "id": "7R6oRO5V1cLC",
        "outputId": "6a9cd0ee-5dee-44e5-b1ff-aad118bb7d06"
      },
      "execution_count": 13,
      "outputs": [
        {
          "output_type": "stream",
          "name": "stdout",
          "text": [
            "Splitting 91 candies\n"
          ]
        },
        {
          "output_type": "execute_result",
          "data": {
            "text/plain": [
              "1"
            ]
          },
          "metadata": {},
          "execution_count": 13
        }
      ]
    },
    {
      "cell_type": "code",
      "source": [
        "to_smash(1)\n"
      ],
      "metadata": {
        "colab": {
          "base_uri": "https://localhost:8080/"
        },
        "id": "fKBBFJG11qnF",
        "outputId": "2f3c69f5-3715-49ec-e0e9-bb59f03586c2"
      },
      "execution_count": 14,
      "outputs": [
        {
          "output_type": "stream",
          "name": "stdout",
          "text": [
            "Splitting 1 candies\n"
          ]
        },
        {
          "output_type": "execute_result",
          "data": {
            "text/plain": [
              "1"
            ]
          },
          "metadata": {},
          "execution_count": 14
        }
      ]
    },
    {
      "cell_type": "code",
      "source": [
        "def prepared_for_weather(have_umbrella, rain_level, have_hood, is_workday):\n",
        "    # Don't change this code. Our goal is just to find the bug, not fix it!\n",
        "    return have_umbrella or rain_level < 5 and have_hood or not rain_level > 0 and is_workday\n",
        "\n",
        "# Change the values of these inputs so they represent a case where prepared_for_weather\n",
        "# returns the wrong answer.\n",
        "have_umbrella = True\n",
        "rain_level = 0.0\n",
        "have_hood = True\n",
        "is_workday = True\n",
        "\n",
        "# Check what the function returns given the current values of the variables above\n",
        "actual = prepared_for_weather(have_umbrella, rain_level, have_hood, is_workday)\n",
        "print(actual)"
      ],
      "metadata": {
        "colab": {
          "base_uri": "https://localhost:8080/"
        },
        "id": "2TNxQS8_2EOF",
        "outputId": "29428d40-357f-47c2-a12d-8138fe55f13d"
      },
      "execution_count": 15,
      "outputs": [
        {
          "output_type": "stream",
          "name": "stdout",
          "text": [
            "True\n"
          ]
        }
      ]
    },
    {
      "cell_type": "code",
      "source": [
        "\n",
        "\n",
        "def is_negative(number):\n",
        "    if number < 0:\n",
        "        return True\n",
        "    else:\n",
        "        return False\n",
        "\n",
        "def concise_is_negative(number):\n",
        "    pass # Your code goes here (try to keep it to one line!)"
      ],
      "metadata": {
        "id": "sJD6qPja2Pxw"
      },
      "execution_count": 17,
      "outputs": []
    },
    {
      "cell_type": "code",
      "source": [
        "def onionless(ketchup, mustard, onion):\n",
        "    \"\"\"Return whether the customer doesn't want onions.\n",
        "    \"\"\"\n",
        "    return not onion"
      ],
      "metadata": {
        "id": "pa8xJAkZ2eRU"
      },
      "execution_count": 18,
      "outputs": []
    },
    {
      "cell_type": "code",
      "source": [
        "def wants_all_toppings(ketchup, mustard, onion):\n",
        "    \"\"\"Return whether the customer wants \"the works\" (all 3 toppings)\n",
        "    \"\"\"\n",
        "    pass"
      ],
      "metadata": {
        "id": "O2Lv3BwA2l2U"
      },
      "execution_count": 19,
      "outputs": []
    },
    {
      "cell_type": "code",
      "source": [
        "def wants_plain_hotdog(ketchup, mustard, onion):\n",
        "    \"\"\"Return whether the customer wants a plain hot dog with no toppings.\n",
        "    \"\"\"\n",
        "    pass"
      ],
      "metadata": {
        "id": "z5484wBC2wWz"
      },
      "execution_count": 20,
      "outputs": []
    },
    {
      "cell_type": "code",
      "source": [
        "def exactly_one_sauce(ketchup, mustard, onion):\n",
        "    \"\"\"Return whether the customer wants either ketchup or mustard, but not both.\n",
        "    (You may be familiar with this operation under the name \"exclusive or\")\n",
        "    \"\"\"\n",
        "    pass"
      ],
      "metadata": {
        "id": "N4eILZQ823s9"
      },
      "execution_count": 21,
      "outputs": []
    },
    {
      "cell_type": "code",
      "source": [
        "def exactly_one_topping(ketchup, mustard, onion):\n",
        "    \"\"\"Return whether the customer wants exactly one of the three available toppings\n",
        "    on their hot dog.\n",
        "    \"\"\"\n",
        "    pass"
      ],
      "metadata": {
        "id": "BbCbO43B3DrO"
      },
      "execution_count": 22,
      "outputs": []
    },
    {
      "cell_type": "code",
      "source": [
        "import random\n",
        "\n",
        "def deal_card():\n",
        "    \"\"\"Deals a card (represented as a string like 'A', 'K', '5', etc.).\"\"\"\n",
        "    cards = ['A', '2', '3', '4', '5', '6', '7', '8', '9', '10', 'J', 'Q', 'K']\n",
        "    return random.choice(cards)\n",
        "\n",
        "def calculate_hand_value(hand):\n",
        "    \"\"\"Calculates the value of a hand of cards.\"\"\"\n",
        "    ace_count = hand.count('A')\n",
        "    total = 0\n",
        "    for card in hand:\n",
        "        if card in ['J', 'Q', 'K']:\n",
        "            total += 10\n",
        "        elif card == 'A':\n",
        "            total += 11  # Start with Ace as 11\n",
        "        else:\n",
        "            total += int(card)\n",
        "\n",
        "    while total > 21 and ace_count > 0:  # Adjust for Aces if needed\n",
        "        total -= 10\n",
        "        ace_count -= 1\n",
        "\n",
        "    return total\n",
        "\n",
        "def play_blackjack():\n",
        "    \"\"\"Plays a simplified game of Blackjack.\"\"\"\n",
        "\n",
        "    player_hand = [deal_card(), deal_card()]\n",
        "    dealer_hand = [deal_card()]\n",
        "\n",
        "    print(\"Your hand:\", player_hand)\n",
        "    print(\"Dealer's hand:\", dealer_hand)\n",
        "\n",
        "    while True:\n",
        "        player_total = calculate_hand_value(player_hand)\n",
        "        if player_total > 21:\n",
        "            print(\"You busted! Dealer wins.\")\n",
        "            return\n",
        "\n",
        "        action = input(\"Hit or stand? (h/s): \").lower()\n",
        "        if action == 'h':\n",
        "            player_hand.append(deal_card())\n",
        "            print(\"Your hand:\", player_hand)\n",
        "        elif action == 's':\n",
        "            break\n",
        "        else:\n",
        "            print(\"Invalid action. Please enter 'h' or 's'.\")\n",
        "\n",
        "    dealer_total = calculate_hand_value(dealer_hand)\n",
        "    while dealer_total < 17:\n",
        "        dealer_hand.append(deal_card())\n",
        "        dealer_total = calculate_hand_value(dealer_hand)\n",
        "        print(\"Dealer hits. Dealer's hand:\", dealer_hand)\n",
        "\n",
        "    print(\"Dealer's final hand:\", dealer_hand)\n",
        "\n",
        "    if dealer_total > 21:\n",
        "        print(\"Dealer busted! You win!\")\n",
        "    elif player_total > dealer_total:\n",
        "        print(\"You win!\")\n",
        "    elif player_total == dealer_total:\n",
        "        print(\"It's a tie!\")\n",
        "    else:\n",
        "        print(\"Dealer wins.\")\n",
        "\n",
        "play_blackjack() # Start the game"
      ],
      "metadata": {
        "colab": {
          "base_uri": "https://localhost:8080/"
        },
        "id": "Mh-eWWP53hUH",
        "outputId": "4b5d8140-543f-40b7-d19c-5d1586314435"
      },
      "execution_count": 23,
      "outputs": [
        {
          "output_type": "stream",
          "name": "stdout",
          "text": [
            "Your hand: ['4', '9']\n",
            "Dealer's hand: ['4']\n",
            "Hit or stand? (h/s): h\n",
            "Your hand: ['4', '9', 'J']\n",
            "You busted! Dealer wins.\n"
          ]
        }
      ]
    },
    {
      "cell_type": "code",
      "source": [
        "def select_second(L):\n",
        "    \"\"\"Return the second element of the given list. If the list has no second\n",
        "    element, return None.\n",
        "    \"\"\"\n",
        "    pass"
      ],
      "metadata": {
        "id": "fJMALUrW4JBO"
      },
      "execution_count": 24,
      "outputs": []
    },
    {
      "cell_type": "code",
      "source": [
        "def losing_team_captain(teams):\n",
        "    \"\"\"\n",
        "    Given a list of teams, where each team is a list of names, return the 2nd player (captain)\n",
        "    from the last listed team.\n",
        "    \"\"\"\n",
        "    worst_team = teams[-1]  # Get the last team in the list (worst team)\n",
        "    captain = worst_team[1]  # Get the second element of the worst team list (captain)\n",
        "    return captain\n",
        "\n",
        "# Example usage:\n",
        "teams = [\n",
        "    [\"Alice\", \"Bob\", \"Charlie\", \"David\"],  # Best team\n",
        "    [\"Eve\", \"Frank\", \"Grace\"],             # Second best team\n",
        "    [\"Henry\", \"Ivy\", \"Jack\", \"Kelly\"],     # Third best team\n",
        "    [\"Liam\", \"Mia\", \"Noah\"]              # Worst team\n",
        "]\n",
        "\n",
        "captain = losing_team_captain(teams)\n",
        "print(captain)  # Output: Mia\n",
        "\n",
        "\n",
        "teams2 = [\n",
        "    [\"Coach1\", \"Captain1\", \"Player1\", \"Player2\"],\n",
        "    [\"Coach2\", \"Captain2\", \"Player3\"],\n",
        "    [\"Coach3\", \"Captain3\", \"Player4\", \"Player5\", \"Player6\"]\n",
        "]\n",
        "\n",
        "captain2 = losing_team_captain(teams2)\n",
        "print(captain2) # Output: Captain3"
      ],
      "metadata": {
        "colab": {
          "base_uri": "https://localhost:8080/"
        },
        "id": "ohFWga7M4dsm",
        "outputId": "eb76808e-d271-436d-b49d-a43486652ce0"
      },
      "execution_count": 25,
      "outputs": [
        {
          "output_type": "stream",
          "name": "stdout",
          "text": [
            "Mia\n",
            "Captain3\n"
          ]
        }
      ]
    },
    {
      "cell_type": "code",
      "source": [
        "def purple_shell(racers):\n",
        "    \"\"\"\n",
        "    Given a list of racers, set the first place racer (at the front of the list) to last\n",
        "    place and vice versa.\n",
        "\n",
        "    >>> r = [\"Mario\", \"Bowser\", \"Luigi\"]\n",
        "    >>> purple_shell(r)\n",
        "    >>> r\n",
        "    [\"Luigi\", \"Bowser\", \"Mario\"]\n",
        "    \"\"\"\n",
        "    if len(racers) >= 2:  # Make sure there are at least two racers to swap\n",
        "        first_place = racers.pop(0)  # Remove and store the first racer\n",
        "        last_place = racers.pop(-1)  # Remove and store the last racer\n",
        "        racers.insert(0, last_place)  # Insert the last racer at the beginning\n",
        "        racers.append(first_place)  # Append the first racer at the end\n",
        "    elif len(racers) == 1:\n",
        "        pass # If there is only one racer, then no change is needed\n",
        "    else:\n",
        "        pass # if there are no racers, then no change is needed\n",
        "\n",
        "\n",
        "# Example usage (testing):\n",
        "r = [\"Mario\", \"Bowser\", \"Luigi\"]\n",
        "purple_shell(r)\n",
        "print(r)  # Output: ['Luigi', 'Bowser', 'Mario']\n",
        "\n",
        "r2 = [\"Mario\"]\n",
        "purple_shell(r2)\n",
        "print(r2) # Output: ['Mario']\n",
        "\n",
        "r3 = []\n",
        "purple_shell(r3)\n",
        "print(r3) # Output: []\n",
        "\n",
        "r4 = [\"Mario\", \"Bowser\", \"Luigi\", \"Toad\", \"Peach\"]\n",
        "purple_shell(r4)\n",
        "print(r4) # Output: ['Peach', 'Bowser', 'Luigi', 'Toad', 'Mario']"
      ],
      "metadata": {
        "colab": {
          "base_uri": "https://localhost:8080/"
        },
        "id": "ZhPPy4PB4v0s",
        "outputId": "58a9a5a8-d133-4cfc-8817-26ec977a097e"
      },
      "execution_count": 26,
      "outputs": [
        {
          "output_type": "stream",
          "name": "stdout",
          "text": [
            "['Luigi', 'Bowser', 'Mario']\n",
            "['Mario']\n",
            "[]\n",
            "['Peach', 'Bowser', 'Luigi', 'Toad', 'Mario']\n"
          ]
        }
      ]
    },
    {
      "cell_type": "code",
      "source": [
        "a = [1, 2, 3]\n",
        "b = [1, [2, 3]]\n",
        "c = []\n",
        "d = [1, 2, 3][1:]\n",
        "\n",
        "# Predictions:\n",
        "lengths = [3, 2, 0, 2]\n",
        "\n",
        "# Verification (optional - uncomment to check):\n",
        "# print(len(a))\n",
        "# print(len(b))\n",
        "# print(len(c))\n",
        "# print(len(d))"
      ],
      "metadata": {
        "id": "8rRFzeZp49m2"
      },
      "execution_count": 27,
      "outputs": []
    },
    {
      "cell_type": "code",
      "source": [
        "def fashionably_late(arrivals, name):\n",
        "    \"\"\"\n",
        "    Given an ordered list of arrivals to the party and a name, return whether the guest with that\n",
        "    name was fashionably late.\n",
        "    \"\"\"\n",
        "    n_arrivals = len(arrivals)\n",
        "    if n_arrivals < 2:  # No one can be fashionably late if there are fewer than 2 guests\n",
        "        return False\n",
        "\n",
        "    midpoint = n_arrivals // 2  # Integer division to find the halfway point\n",
        "    late_comers = arrivals[midpoint:-1]  # Slice the list to get those after the midpoint, excluding the last person\n",
        "    return name in late_comers\n",
        "\n",
        "# Example usage:\n",
        "party_attendees = ['Adela', 'Fleda', 'Owen', 'May', 'Mona', 'Gilbert', 'Ford']\n",
        "\n",
        "print(fashionably_late(party_attendees, 'Mona'))   # Output: True\n",
        "print(fashionably_late(party_attendees, 'Gilbert')) # Output: True\n",
        "print(fashionably_late(party_attendees, 'Adela'))   # Output: False\n",
        "print(fashionably_late(party_attendees, 'Ford'))    # Output: False\n",
        "print(fashionably_late(party_attendees, 'May')) # Output: False\n",
        "\n",
        "party_attendees2 = ['Adela', 'Fleda', 'Owen']\n",
        "print(fashionably_late(party_attendees2, 'Owen')) # Output: False\n",
        "\n",
        "party_attendees3 = ['Adela']\n",
        "print(fashionably_late(party_attendees3, 'Adela')) # Output: False"
      ],
      "metadata": {
        "colab": {
          "base_uri": "https://localhost:8080/"
        },
        "id": "xZJaiTYs5Ygb",
        "outputId": "a4131ce5-e3a1-408d-cd59-902444b2adc8"
      },
      "execution_count": 28,
      "outputs": [
        {
          "output_type": "stream",
          "name": "stdout",
          "text": [
            "True\n",
            "True\n",
            "False\n",
            "False\n",
            "True\n",
            "False\n",
            "False\n"
          ]
        }
      ]
    }
  ]
}