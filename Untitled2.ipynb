{
  "nbformat": 4,
  "nbformat_minor": 0,
  "metadata": {
    "colab": {
      "provenance": [],
      "authorship_tag": "ABX9TyOwL1SGDjETQhf32HL9OuoD",
      "include_colab_link": true
    },
    "kernelspec": {
      "name": "python3",
      "display_name": "Python 3"
    },
    "language_info": {
      "name": "python"
    }
  },
  "cells": [
    {
      "cell_type": "markdown",
      "metadata": {
        "id": "view-in-github",
        "colab_type": "text"
      },
      "source": [
        "<a href=\"https://colab.research.google.com/github/pesh911/pesh-asssignment-1/blob/main/Untitled2.ipynb\" target=\"_parent\"><img src=\"https://colab.research.google.com/assets/colab-badge.svg\" alt=\"Open In Colab\"/></a>"
      ]
    },
    {
      "cell_type": "code",
      "execution_count": 1,
      "metadata": {
        "colab": {
          "base_uri": "https://localhost:8080/"
        },
        "id": "6ZSFwacC3uxc",
        "outputId": "d3f82f43-8c97-40b4-bfd5-4dc10fd2eea7"
      },
      "outputs": [
        {
          "output_type": "stream",
          "name": "stdout",
          "text": [
            "Hello, world!\n"
          ]
        }
      ],
      "source": [
        "print(\"Hello, world!\")"
      ]
    },
    {
      "cell_type": "code",
      "source": [
        "print(\"Good evening!\")\n",
        "print(\"3+4\")"
      ],
      "metadata": {
        "colab": {
          "base_uri": "https://localhost:8080/"
        },
        "id": "FNgqGDQj9GNA",
        "outputId": "06f27d3f-a8dc-437a-ea67-32aa751a927b"
      },
      "execution_count": 3,
      "outputs": [
        {
          "output_type": "stream",
          "name": "stdout",
          "text": [
            "Good evening!\n",
            "3+4\n"
          ]
        }
      ]
    },
    {
      "cell_type": "code",
      "source": [
        "#print(1+2)"
      ],
      "metadata": {
        "id": "L_AoKDD3-Bq-"
      },
      "execution_count": 4,
      "outputs": []
    },
    {
      "cell_type": "code",
      "source": [
        "# Create variables\n",
        "num_years = 4\n",
        "days_per_year = 365\n",
        "hours_per_day = 24\n",
        "mins_per_hour = 60\n",
        "secs_per_min = 60\n",
        "\n",
        "# Calculate number of seconds in four years\n",
        "total_secs = secs_per_min * mins_per_hour * hours_per_day * days_per_year * num_years\n",
        "print(total_secs)"
      ],
      "metadata": {
        "colab": {
          "base_uri": "https://localhost:8080/"
        },
        "id": "06ydhAcL-KRA",
        "outputId": "88b0da7d-60ea-425f-a689-3c5836f855a0"
      },
      "execution_count": 5,
      "outputs": [
        {
          "output_type": "stream",
          "name": "stdout",
          "text": [
            "126144000\n"
          ]
        }
      ]
    },
    {
      "cell_type": "code",
      "source": [
        "total=891\n",
        "survived=342\n",
        "minors=113\n",
        "survived_fraction=342/891\n",
        "minors_fraction=113/891\n",
        "print(survived_fraction)\n",
        "print(minors_fraction)"
      ],
      "metadata": {
        "colab": {
          "base_uri": "https://localhost:8080/"
        },
        "id": "NiaPSPqdDQOh",
        "outputId": "888fffad-5b39-4466-ba4a-6d18899a4615"
      },
      "execution_count": 8,
      "outputs": [
        {
          "output_type": "stream",
          "name": "stdout",
          "text": [
            "0.3838383838383838\n",
            "0.12682379349046016\n"
          ]
        }
      ]
    }
  ]
}